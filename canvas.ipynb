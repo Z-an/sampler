{
 "cells": [
  {
   "cell_type": "code",
   "execution_count": null,
   "metadata": {},
   "outputs": [],
   "source": [
    "import pandas as pd"
   ]
  },
  {
   "cell_type": "code",
   "execution_count": null,
   "metadata": {},
   "outputs": [],
   "source": [
    "import snow.utils as sf\n",
    "import sample.utils as samp"
   ]
  },
  {
   "cell_type": "code",
   "execution_count": 8,
   "metadata": {},
   "outputs": [],
   "source": [
    "cohorts = ['black star pastry newtown','black star pastry rosebery']"
   ]
  },
  {
   "cell_type": "code",
   "execution_count": 9,
   "metadata": {},
   "outputs": [],
   "source": [
    "def process(cohorts,samples=2,lump_emails=set()):\n",
    "    \n",
    "    for cohort in cohorts:\n",
    "        emails = list(set(samp.ids_to_emails(cohort+'.csv')) - lump_emails)\n",
    "        new_df,name = samp.sampler(emails,samples,cohort)\n",
    "        samp.samples_to_csv(new_df,name)\n",
    "        \n",
    "        if len(lump_emails)==0: lump_emails = set(emails)\n",
    "        else: lump_emails.union(set(emails))\n",
    "        new_df.email.to_csv(name+'.csv')\n",
    "        \n",
    "    return lump_emails"
   ]
  },
  {
   "cell_type": "code",
   "execution_count": 10,
   "metadata": {},
   "outputs": [
    {
     "name": "stdout",
     "output_type": "stream",
     "text": [
      "Using all_data_viewer...\n",
      "Established connection.\n",
      "Querying load_wh.all_data.postgres\n",
      "Emails data:  ('319478', 'catharina.rudolph@gmail.com') \n",
      "\n",
      "Connection succesfully closed.\n",
      "Using all_data_viewer...\n",
      "Established connection.\n",
      "Querying load_wh.all_data.postgres\n",
      "User_cities data:  ('220772', 'chelseafc4life.bluedevil@gmail.com', 'Melbourne') \n",
      "\n",
      "Connection succesfully closed.\n",
      "Using all_data_viewer...\n",
      "Established connection.\n",
      "Querying load_wh.all_data.postgres\n",
      "Interactions data:  ('xinruli0926@gmail.com', '403759', '2019-06-14', None, None, None, Decimal('6.600000'), 'Yes', 'Sydney', 861, 'CoCo Fresh Tea & Juice', 1246, '2019-06-14', Decimal('6.600000000000')) \n",
      "\n",
      "Connection succesfully closed.\n"
     ]
    },
    {
     "name": "stderr",
     "output_type": "stream",
     "text": [
      "/Users/zan/Desktop/sampler/sample/utils.py:72: SettingWithCopyWarning: \n",
      "A value is trying to be set on a copy of a slice from a DataFrame.\n",
      "Try using .loc[row_indexer,col_indexer] = value instead\n",
      "\n",
      "See the caveats in the documentation: http://pandas.pydata.org/pandas-docs/stable/indexing.html#indexing-view-versus-copy\n",
      "  total[column_name] = subsize*labels + labels[:remainder]\n",
      "/Library/Frameworks/Python.framework/Versions/3.7/lib/python3.7/site-packages/ipykernel_launcher.py:10: FutureWarning: The signature of `Series.to_csv` was aligned to that of `DataFrame.to_csv`, and argument 'header' will change its default value from False to True: please pass an explicit value to suppress this warning.\n",
      "  # Remove the CWD from sys.path while we load stuff.\n"
     ]
    },
    {
     "name": "stdout",
     "output_type": "stream",
     "text": [
      "Using all_data_viewer...\n",
      "Established connection.\n",
      "Querying load_wh.all_data.postgres\n",
      "Emails data:  ('319478', 'catharina.rudolph@gmail.com') \n",
      "\n",
      "Connection succesfully closed.\n",
      "Using all_data_viewer...\n",
      "Established connection.\n",
      "Querying load_wh.all_data.postgres\n",
      "User_cities data:  ('322519', 'pengjie0911@hotmail.com', 'Melbourne') \n",
      "\n",
      "Connection succesfully closed.\n",
      "Using all_data_viewer...\n",
      "Established connection.\n",
      "Querying load_wh.all_data.postgres\n",
      "Interactions data:  ('mimi.rawlinson@yahoo.com', '402317', '2019-06-14', None, None, None, Decimal('51.500000'), 'Yes', 'Melbourne', 1101, 'Laksa King', 1673, '2019-06-14', Decimal('51.500000000000')) \n",
      "\n",
      "Connection succesfully closed.\n"
     ]
    },
    {
     "name": "stderr",
     "output_type": "stream",
     "text": [
      "/Users/zan/Desktop/sampler/sample/utils.py:72: SettingWithCopyWarning: \n",
      "A value is trying to be set on a copy of a slice from a DataFrame.\n",
      "Try using .loc[row_indexer,col_indexer] = value instead\n",
      "\n",
      "See the caveats in the documentation: http://pandas.pydata.org/pandas-docs/stable/indexing.html#indexing-view-versus-copy\n",
      "  total[column_name] = subsize*labels + labels[:remainder]\n",
      "/Library/Frameworks/Python.framework/Versions/3.7/lib/python3.7/site-packages/ipykernel_launcher.py:10: FutureWarning: The signature of `Series.to_csv` was aligned to that of `DataFrame.to_csv`, and argument 'header' will change its default value from False to True: please pass an explicit value to suppress this warning.\n",
      "  # Remove the CWD from sys.path while we load stuff.\n"
     ]
    }
   ],
   "source": [
    "pushed = process(cohorts)"
   ]
  },
  {
   "cell_type": "code",
   "execution_count": null,
   "metadata": {},
   "outputs": [],
   "source": []
  }
 ],
 "metadata": {
  "kernelspec": {
   "display_name": "Python 3",
   "language": "python",
   "name": "python3"
  },
  "language_info": {
   "codemirror_mode": {
    "name": "ipython",
    "version": 3
   },
   "file_extension": ".py",
   "mimetype": "text/x-python",
   "name": "python",
   "nbconvert_exporter": "python",
   "pygments_lexer": "ipython3",
   "version": "3.7.2"
  }
 },
 "nbformat": 4,
 "nbformat_minor": 2
}
